{
 "cells": [
  {
   "cell_type": "markdown",
   "metadata": {},
   "source": [
    "# Simulation Exercises\n",
    "\n",
    "## How likely is it that you roll doubles when rolling two dice?"
   ]
  },
  {
   "cell_type": "code",
   "execution_count": 1,
   "metadata": {},
   "outputs": [],
   "source": [
    "import numpy as np\n",
    "import pandas as pd"
   ]
  },
  {
   "cell_type": "code",
   "execution_count": 2,
   "metadata": {},
   "outputs": [
    {
     "data": {
      "text/html": [
       "<div>\n",
       "<style scoped>\n",
       "    .dataframe tbody tr th:only-of-type {\n",
       "        vertical-align: middle;\n",
       "    }\n",
       "\n",
       "    .dataframe tbody tr th {\n",
       "        vertical-align: top;\n",
       "    }\n",
       "\n",
       "    .dataframe thead th {\n",
       "        text-align: right;\n",
       "    }\n",
       "</style>\n",
       "<table border=\"1\" class=\"dataframe\">\n",
       "  <thead>\n",
       "    <tr style=\"text-align: right;\">\n",
       "      <th></th>\n",
       "      <th>0</th>\n",
       "      <th>1</th>\n",
       "    </tr>\n",
       "  </thead>\n",
       "  <tbody>\n",
       "    <tr>\n",
       "      <td>0</td>\n",
       "      <td>3</td>\n",
       "      <td>4</td>\n",
       "    </tr>\n",
       "    <tr>\n",
       "      <td>1</td>\n",
       "      <td>5</td>\n",
       "      <td>1</td>\n",
       "    </tr>\n",
       "    <tr>\n",
       "      <td>2</td>\n",
       "      <td>5</td>\n",
       "      <td>3</td>\n",
       "    </tr>\n",
       "    <tr>\n",
       "      <td>3</td>\n",
       "      <td>4</td>\n",
       "      <td>5</td>\n",
       "    </tr>\n",
       "    <tr>\n",
       "      <td>4</td>\n",
       "      <td>5</td>\n",
       "      <td>4</td>\n",
       "    </tr>\n",
       "    <tr>\n",
       "      <td>...</td>\n",
       "      <td>...</td>\n",
       "      <td>...</td>\n",
       "    </tr>\n",
       "    <tr>\n",
       "      <td>99995</td>\n",
       "      <td>5</td>\n",
       "      <td>1</td>\n",
       "    </tr>\n",
       "    <tr>\n",
       "      <td>99996</td>\n",
       "      <td>6</td>\n",
       "      <td>6</td>\n",
       "    </tr>\n",
       "    <tr>\n",
       "      <td>99997</td>\n",
       "      <td>3</td>\n",
       "      <td>6</td>\n",
       "    </tr>\n",
       "    <tr>\n",
       "      <td>99998</td>\n",
       "      <td>6</td>\n",
       "      <td>3</td>\n",
       "    </tr>\n",
       "    <tr>\n",
       "      <td>99999</td>\n",
       "      <td>3</td>\n",
       "      <td>1</td>\n",
       "    </tr>\n",
       "  </tbody>\n",
       "</table>\n",
       "<p>100000 rows × 2 columns</p>\n",
       "</div>"
      ],
      "text/plain": [
       "       0  1\n",
       "0      3  4\n",
       "1      5  1\n",
       "2      5  3\n",
       "3      4  5\n",
       "4      5  4\n",
       "...   .. ..\n",
       "99995  5  1\n",
       "99996  6  6\n",
       "99997  3  6\n",
       "99998  6  3\n",
       "99999  3  1\n",
       "\n",
       "[100000 rows x 2 columns]"
      ]
     },
     "execution_count": 2,
     "metadata": {},
     "output_type": "execute_result"
    }
   ],
   "source": [
    "ntrials = ncols = 2\n",
    "nsims = nrows = 100_000\n",
    "\n",
    "rolls = pd.DataFrame(np.random.choice([1, 2, 3, 4, 5, 6], size=(nsims, ntrials)))\n",
    "rolls"
   ]
  },
  {
   "cell_type": "code",
   "execution_count": 3,
   "metadata": {},
   "outputs": [
    {
     "data": {
      "text/plain": [
       "0        False\n",
       "1        False\n",
       "2        False\n",
       "3        False\n",
       "4        False\n",
       "         ...  \n",
       "99995    False\n",
       "99996     True\n",
       "99997    False\n",
       "99998    False\n",
       "99999    False\n",
       "Length: 100000, dtype: bool"
      ]
     },
     "execution_count": 3,
     "metadata": {},
     "output_type": "execute_result"
    }
   ],
   "source": [
    "doubles = rolls[0] == rolls[1]\n",
    "doubles"
   ]
  },
  {
   "cell_type": "code",
   "execution_count": 4,
   "metadata": {},
   "outputs": [
    {
     "data": {
      "text/plain": [
       "0.16701"
      ]
     },
     "execution_count": 4,
     "metadata": {},
     "output_type": "execute_result"
    }
   ],
   "source": [
    "P_of_doubles = doubles.mean()\n",
    "P_of_doubles"
   ]
  },
  {
   "cell_type": "markdown",
   "metadata": {},
   "source": [
    "## If you flip 8 coins, what is the probability of getting exactly 3 heads? What is the probability of getting more than 3 heads?"
   ]
  },
  {
   "cell_type": "code",
   "execution_count": 5,
   "metadata": {},
   "outputs": [
    {
     "data": {
      "text/plain": [
       "array([[1, 0, 1, ..., 1, 0, 0],\n",
       "       [1, 0, 1, ..., 0, 0, 0],\n",
       "       [0, 1, 0, ..., 0, 1, 1],\n",
       "       ...,\n",
       "       [0, 0, 0, ..., 1, 0, 1],\n",
       "       [0, 0, 1, ..., 0, 1, 1],\n",
       "       [1, 1, 0, ..., 1, 1, 0]])"
      ]
     },
     "execution_count": 5,
     "metadata": {},
     "output_type": "execute_result"
    }
   ],
   "source": [
    "ntrials = 8\n",
    "nsims = 100_000\n",
    "\n",
    "# 1 heads, 0 tails\n",
    "flips = np.random.choice([0, 1], size=(nsims, ntrials))\n",
    "flips"
   ]
  },
  {
   "cell_type": "code",
   "execution_count": 6,
   "metadata": {},
   "outputs": [],
   "source": [
    "exactly_3_heads = (flips == 1).sum(axis=1) == 3"
   ]
  },
  {
   "cell_type": "code",
   "execution_count": 7,
   "metadata": {},
   "outputs": [
    {
     "data": {
      "text/plain": [
       "0.2167"
      ]
     },
     "execution_count": 7,
     "metadata": {},
     "output_type": "execute_result"
    }
   ],
   "source": [
    "exactly_3_heads.mean()"
   ]
  },
  {
   "cell_type": "code",
   "execution_count": 8,
   "metadata": {},
   "outputs": [
    {
     "data": {
      "text/plain": [
       "array([ True, False,  True, ..., False,  True,  True])"
      ]
     },
     "execution_count": 8,
     "metadata": {},
     "output_type": "execute_result"
    }
   ],
   "source": [
    "more_than_3_heads = (flips == 1).sum(axis=1) > 3\n",
    "more_than_3_heads"
   ]
  },
  {
   "cell_type": "code",
   "execution_count": 9,
   "metadata": {},
   "outputs": [
    {
     "data": {
      "text/plain": [
       "0.63735"
      ]
     },
     "execution_count": 9,
     "metadata": {},
     "output_type": "execute_result"
    }
   ],
   "source": [
    "more_than_3_heads.mean()"
   ]
  },
  {
   "cell_type": "markdown",
   "metadata": {},
   "source": [
    "## There are approximitely 3 web development cohorts for every 1 data science cohort at Codeup. Assuming that Codeup randomly selects an alumni to put on a billboard, what are the odds that the two billboards I drive past both have data science students on them?"
   ]
  },
  {
   "cell_type": "code",
   "execution_count": 10,
   "metadata": {},
   "outputs": [
    {
     "data": {
      "text/plain": [
       "array([['Web Dev'],\n",
       "       ['Web Dev'],\n",
       "       ['Web Dev'],\n",
       "       ...,\n",
       "       ['Web Dev'],\n",
       "       ['Web Dev'],\n",
       "       ['Web Dev']], dtype='<U12')"
      ]
     },
     "execution_count": 10,
     "metadata": {},
     "output_type": "execute_result"
    }
   ],
   "source": [
    "ntrials = 1\n",
    "nsims = 100_000\n",
    "\n",
    "billboards = np.random.choice(['Web Dev', 'Data Science'], p=[3/4, 1/4], size=(nsims, ntrials))\n",
    "billboards"
   ]
  },
  {
   "cell_type": "code",
   "execution_count": 11,
   "metadata": {},
   "outputs": [
    {
     "data": {
      "text/plain": [
       "0.25036"
      ]
     },
     "execution_count": 11,
     "metadata": {},
     "output_type": "execute_result"
    }
   ],
   "source": [
    "(billboards == 'Data Science').mean()"
   ]
  },
  {
   "cell_type": "markdown",
   "metadata": {},
   "source": [
    "## Codeup students buy, on average, 3 poptart packages (+- 1.5) a day from the snack vending machine. If on monday the machine is restocked with 17 poptart packages, how likely is it that I will be able to buy some poptarts on Friday afternoon?"
   ]
  },
  {
   "cell_type": "code",
   "execution_count": 12,
   "metadata": {},
   "outputs": [
    {
     "data": {
      "text/plain": [
       "array([[ 7.,  5.,  4.,  3.,  2.],\n",
       "       [ 4.,  4.,  2.,  2.,  4.],\n",
       "       [ 5.,  2.,  4.,  4.,  1.],\n",
       "       ...,\n",
       "       [ 3.,  3.,  1.,  2.,  3.],\n",
       "       [ 4.,  2.,  5.,  3.,  5.],\n",
       "       [ 4.,  3.,  2., -0.,  1.]])"
      ]
     },
     "execution_count": 12,
     "metadata": {},
     "output_type": "execute_result"
    }
   ],
   "source": [
    "ntrials = ncols = 5\n",
    "nsims = nrows = 100_000\n",
    "\n",
    "poptarts = np.random.normal(3, 1.5, size=(nrows, ncols)).round()\n",
    "poptarts"
   ]
  },
  {
   "cell_type": "code",
   "execution_count": 13,
   "metadata": {},
   "outputs": [
    {
     "data": {
      "text/plain": [
       "array([[ 7.,  5.,  4.,  3.,  2.],\n",
       "       [ 4.,  4.,  2.,  2.,  4.],\n",
       "       [ 5.,  2.,  4.,  4.,  1.],\n",
       "       ...,\n",
       "       [ 3.,  3.,  1.,  2.,  3.],\n",
       "       [ 4.,  2.,  5.,  3.,  5.],\n",
       "       [ 4.,  3.,  2., -0.,  1.]])"
      ]
     },
     "execution_count": 13,
     "metadata": {},
     "output_type": "execute_result"
    }
   ],
   "source": [
    "no_neg_poptarts = np.where(poptarts < 0, 0, poptarts)\n",
    "no_neg_poptarts"
   ]
  },
  {
   "cell_type": "code",
   "execution_count": 14,
   "metadata": {},
   "outputs": [
    {
     "data": {
      "text/plain": [
       "array([False,  True,  True, ...,  True, False,  True])"
      ]
     },
     "execution_count": 14,
     "metadata": {},
     "output_type": "execute_result"
    }
   ],
   "source": [
    "has_left_overs = no_neg_poptarts.sum(axis=1) < 17\n",
    "has_left_overs"
   ]
  },
  {
   "cell_type": "code",
   "execution_count": 15,
   "metadata": {},
   "outputs": [
    {
     "data": {
      "text/plain": [
       "0.6687"
      ]
     },
     "execution_count": 15,
     "metadata": {},
     "output_type": "execute_result"
    }
   ],
   "source": [
    "has_left_overs.mean()"
   ]
  },
  {
   "cell_type": "markdown",
   "metadata": {},
   "source": [
    "## Compare Heights\n",
    "\n",
    "* Men have an average height of 178 cm and standard deviation of 8cm.\n",
    "* Women have a mean of 170, sd = 6cm.\n",
    "* If a man and woman are chosen at random, P(woman taller than man)?"
   ]
  },
  {
   "cell_type": "code",
   "execution_count": 16,
   "metadata": {},
   "outputs": [
    {
     "data": {
      "text/plain": [
       "array([176.62950063, 184.47949867, 179.4778153 , ..., 181.2350099 ,\n",
       "       173.66569496, 178.92639493])"
      ]
     },
     "execution_count": 16,
     "metadata": {},
     "output_type": "execute_result"
    }
   ],
   "source": [
    "nsims = 100_000\n",
    "\n",
    "men = np.random.normal(178, 8, size=nsims)\n",
    "men"
   ]
  },
  {
   "cell_type": "code",
   "execution_count": 17,
   "metadata": {},
   "outputs": [
    {
     "data": {
      "text/plain": [
       "array([173.03383669, 164.69157065, 168.93520294, ..., 165.76402269,\n",
       "       172.82700328, 178.59823777])"
      ]
     },
     "execution_count": 17,
     "metadata": {},
     "output_type": "execute_result"
    }
   ],
   "source": [
    "women = np.random.normal(170, 6, size=nsims)\n",
    "women"
   ]
  },
  {
   "cell_type": "code",
   "execution_count": 18,
   "metadata": {},
   "outputs": [
    {
     "data": {
      "text/plain": [
       "0.20924"
      ]
     },
     "execution_count": 18,
     "metadata": {},
     "output_type": "execute_result"
    }
   ],
   "source": [
    "(men < women).mean()"
   ]
  },
  {
   "cell_type": "markdown",
   "metadata": {},
   "source": [
    "## When installing anaconda on a student's computer, there's a 1 in 250 chance that the download is corrupted and the installation fails. What are the odds that after having 50 students download anaconda, no one has an installation issue? 100 students?"
   ]
  },
  {
   "cell_type": "code",
   "execution_count": 19,
   "metadata": {},
   "outputs": [],
   "source": [
    "def prob_no_anaconda_corruption(students, number_of_sims_to_run):\n",
    "    ntrials = ncols = students\n",
    "    nsims = nrows = number_of_sims_to_run\n",
    "\n",
    "    installs = np.random.choice([0, 1], p=[1/250, 249/250], size=(nrows, ncols))\n",
    "    \n",
    "    no_corruptions = installs.sum(axis=1) == students\n",
    "    \n",
    "    return no_corruptions.mean()"
   ]
  },
  {
   "cell_type": "code",
   "execution_count": 20,
   "metadata": {},
   "outputs": [
    {
     "data": {
      "text/plain": [
       "0.81928"
      ]
     },
     "execution_count": 20,
     "metadata": {},
     "output_type": "execute_result"
    }
   ],
   "source": [
    "prob_no_anaconda_corruption(50, 100_000)"
   ]
  },
  {
   "cell_type": "code",
   "execution_count": 21,
   "metadata": {},
   "outputs": [
    {
     "data": {
      "text/plain": [
       "0.66926"
      ]
     },
     "execution_count": 21,
     "metadata": {},
     "output_type": "execute_result"
    }
   ],
   "source": [
    "prob_no_anaconda_corruption(100, 100_000)"
   ]
  },
  {
   "cell_type": "markdown",
   "metadata": {},
   "source": [
    "### What is the probability that we observe an installation issue within the first 150 students that download anaconda?"
   ]
  },
  {
   "cell_type": "code",
   "execution_count": 22,
   "metadata": {},
   "outputs": [],
   "source": [
    "def prob_anaconda_corruption(students, number_of_sims_to_run):\n",
    "    ntrials = ncols = students\n",
    "    nsims = nrows = number_of_sims_to_run\n",
    "\n",
    "    installs = np.random.choice([0, 1], p=[1/250, 249/250], size=(nrows, ncols))\n",
    "    \n",
    "    has_corruptions = installs.sum(axis=1) < students\n",
    "    \n",
    "    return has_corruptions.mean()"
   ]
  },
  {
   "cell_type": "code",
   "execution_count": 23,
   "metadata": {},
   "outputs": [
    {
     "data": {
      "text/plain": [
       "0.45365"
      ]
     },
     "execution_count": 23,
     "metadata": {},
     "output_type": "execute_result"
    }
   ],
   "source": [
    "prob_anaconda_corruption(150, 100_000)"
   ]
  },
  {
   "cell_type": "markdown",
   "metadata": {},
   "source": [
    "### How likely is it that 450 students all download anaconda without an issue?"
   ]
  },
  {
   "cell_type": "code",
   "execution_count": 24,
   "metadata": {},
   "outputs": [
    {
     "data": {
      "text/plain": [
       "0.16432"
      ]
     },
     "execution_count": 24,
     "metadata": {},
     "output_type": "execute_result"
    }
   ],
   "source": [
    "prob_no_anaconda_corruption(450, 100_000)"
   ]
  },
  {
   "cell_type": "markdown",
   "metadata": {},
   "source": [
    "## There's a 70% chance on any given day that there will be at least one food truck at Travis Park. However, you haven't seen a food truck there in 3 days. How unlikely is this?"
   ]
  },
  {
   "cell_type": "code",
   "execution_count": 25,
   "metadata": {},
   "outputs": [
    {
     "data": {
      "text/plain": [
       "array([[1, 0, 0],\n",
       "       [1, 1, 1],\n",
       "       [0, 1, 0],\n",
       "       ...,\n",
       "       [0, 0, 1],\n",
       "       [1, 1, 1],\n",
       "       [1, 1, 1]])"
      ]
     },
     "execution_count": 25,
     "metadata": {},
     "output_type": "execute_result"
    }
   ],
   "source": [
    "ntrials = 3\n",
    "nsims = 100_000\n",
    "\n",
    "# 0 is no food trucks, 1 is at least 1 food truck\n",
    "food_trucks = np.random.choice([0, 1], p=[.3, .7], size=(nsims, ntrials))\n",
    "food_trucks"
   ]
  },
  {
   "cell_type": "code",
   "execution_count": 26,
   "metadata": {},
   "outputs": [
    {
     "data": {
      "text/plain": [
       "array([False, False, False, ..., False, False, False])"
      ]
     },
     "execution_count": 26,
     "metadata": {},
     "output_type": "execute_result"
    }
   ],
   "source": [
    "no_food_trucks = food_trucks.sum(axis=1) == 0\n",
    "no_food_trucks"
   ]
  },
  {
   "cell_type": "code",
   "execution_count": 27,
   "metadata": {},
   "outputs": [
    {
     "data": {
      "text/plain": [
       "0.02701"
      ]
     },
     "execution_count": 27,
     "metadata": {},
     "output_type": "execute_result"
    }
   ],
   "source": [
    "no_food_trucks.mean()"
   ]
  },
  {
   "cell_type": "markdown",
   "metadata": {},
   "source": [
    "### How likely is it that a food truck will show up sometime this week?"
   ]
  },
  {
   "cell_type": "code",
   "execution_count": 28,
   "metadata": {},
   "outputs": [
    {
     "data": {
      "text/plain": [
       "array([[1, 1, 1, ..., 1, 1, 1],\n",
       "       [1, 0, 0, ..., 0, 1, 1],\n",
       "       [1, 1, 1, ..., 1, 1, 1],\n",
       "       ...,\n",
       "       [1, 1, 1, ..., 1, 0, 1],\n",
       "       [0, 0, 1, ..., 1, 1, 0],\n",
       "       [0, 0, 1, ..., 1, 1, 1]])"
      ]
     },
     "execution_count": 28,
     "metadata": {},
     "output_type": "execute_result"
    }
   ],
   "source": [
    "ntrials = 7\n",
    "nsims = 100_000\n",
    "\n",
    "food_trucks = np.random.choice([0, 1], p=[.3, .7], size =(nsims, ntrials))\n",
    "food_trucks"
   ]
  },
  {
   "cell_type": "code",
   "execution_count": 29,
   "metadata": {},
   "outputs": [
    {
     "data": {
      "text/plain": [
       "array([ True,  True,  True, ...,  True,  True,  True])"
      ]
     },
     "execution_count": 29,
     "metadata": {},
     "output_type": "execute_result"
    }
   ],
   "source": [
    "at_least_one_food_truck = food_trucks.sum(axis=1) > 0\n",
    "at_least_one_food_truck"
   ]
  },
  {
   "cell_type": "code",
   "execution_count": 30,
   "metadata": {},
   "outputs": [
    {
     "data": {
      "text/plain": [
       "0.99971"
      ]
     },
     "execution_count": 30,
     "metadata": {},
     "output_type": "execute_result"
    }
   ],
   "source": [
    "at_least_one_food_truck.mean()"
   ]
  },
  {
   "cell_type": "markdown",
   "metadata": {},
   "source": [
    "## If 23 people are in the same room, what are the odds that two of them share a birthday? What if it's 20 people? 40?"
   ]
  },
  {
   "cell_type": "code",
   "execution_count": 31,
   "metadata": {},
   "outputs": [
    {
     "data": {
      "text/html": [
       "<div>\n",
       "<style scoped>\n",
       "    .dataframe tbody tr th:only-of-type {\n",
       "        vertical-align: middle;\n",
       "    }\n",
       "\n",
       "    .dataframe tbody tr th {\n",
       "        vertical-align: top;\n",
       "    }\n",
       "\n",
       "    .dataframe thead th {\n",
       "        text-align: right;\n",
       "    }\n",
       "</style>\n",
       "<table border=\"1\" class=\"dataframe\">\n",
       "  <thead>\n",
       "    <tr style=\"text-align: right;\">\n",
       "      <th></th>\n",
       "      <th>0</th>\n",
       "      <th>1</th>\n",
       "      <th>2</th>\n",
       "      <th>3</th>\n",
       "      <th>4</th>\n",
       "      <th>5</th>\n",
       "      <th>6</th>\n",
       "      <th>7</th>\n",
       "      <th>8</th>\n",
       "      <th>9</th>\n",
       "      <th>...</th>\n",
       "      <th>13</th>\n",
       "      <th>14</th>\n",
       "      <th>15</th>\n",
       "      <th>16</th>\n",
       "      <th>17</th>\n",
       "      <th>18</th>\n",
       "      <th>19</th>\n",
       "      <th>20</th>\n",
       "      <th>21</th>\n",
       "      <th>22</th>\n",
       "    </tr>\n",
       "  </thead>\n",
       "  <tbody>\n",
       "    <tr>\n",
       "      <td>0</td>\n",
       "      <td>200.0</td>\n",
       "      <td>282.0</td>\n",
       "      <td>186.0</td>\n",
       "      <td>264.0</td>\n",
       "      <td>351.0</td>\n",
       "      <td>322.0</td>\n",
       "      <td>171.0</td>\n",
       "      <td>111.0</td>\n",
       "      <td>332.0</td>\n",
       "      <td>227.0</td>\n",
       "      <td>...</td>\n",
       "      <td>215.0</td>\n",
       "      <td>159.0</td>\n",
       "      <td>348.0</td>\n",
       "      <td>23.0</td>\n",
       "      <td>310.0</td>\n",
       "      <td>175.0</td>\n",
       "      <td>343.0</td>\n",
       "      <td>324.0</td>\n",
       "      <td>93.0</td>\n",
       "      <td>1.0</td>\n",
       "    </tr>\n",
       "    <tr>\n",
       "      <td>1</td>\n",
       "      <td>11.0</td>\n",
       "      <td>124.0</td>\n",
       "      <td>81.0</td>\n",
       "      <td>271.0</td>\n",
       "      <td>56.0</td>\n",
       "      <td>288.0</td>\n",
       "      <td>51.0</td>\n",
       "      <td>43.0</td>\n",
       "      <td>281.0</td>\n",
       "      <td>240.0</td>\n",
       "      <td>...</td>\n",
       "      <td>308.0</td>\n",
       "      <td>6.0</td>\n",
       "      <td>268.0</td>\n",
       "      <td>89.0</td>\n",
       "      <td>174.0</td>\n",
       "      <td>155.0</td>\n",
       "      <td>240.0</td>\n",
       "      <td>85.0</td>\n",
       "      <td>154.0</td>\n",
       "      <td>159.0</td>\n",
       "    </tr>\n",
       "    <tr>\n",
       "      <td>2</td>\n",
       "      <td>62.0</td>\n",
       "      <td>329.0</td>\n",
       "      <td>195.0</td>\n",
       "      <td>26.0</td>\n",
       "      <td>8.0</td>\n",
       "      <td>317.0</td>\n",
       "      <td>347.0</td>\n",
       "      <td>23.0</td>\n",
       "      <td>181.0</td>\n",
       "      <td>238.0</td>\n",
       "      <td>...</td>\n",
       "      <td>52.0</td>\n",
       "      <td>287.0</td>\n",
       "      <td>160.0</td>\n",
       "      <td>255.0</td>\n",
       "      <td>311.0</td>\n",
       "      <td>302.0</td>\n",
       "      <td>281.0</td>\n",
       "      <td>342.0</td>\n",
       "      <td>145.0</td>\n",
       "      <td>197.0</td>\n",
       "    </tr>\n",
       "    <tr>\n",
       "      <td>3</td>\n",
       "      <td>204.0</td>\n",
       "      <td>66.0</td>\n",
       "      <td>291.0</td>\n",
       "      <td>199.0</td>\n",
       "      <td>9.0</td>\n",
       "      <td>332.0</td>\n",
       "      <td>201.0</td>\n",
       "      <td>282.0</td>\n",
       "      <td>297.0</td>\n",
       "      <td>138.0</td>\n",
       "      <td>...</td>\n",
       "      <td>80.0</td>\n",
       "      <td>169.0</td>\n",
       "      <td>266.0</td>\n",
       "      <td>268.0</td>\n",
       "      <td>274.0</td>\n",
       "      <td>263.0</td>\n",
       "      <td>96.0</td>\n",
       "      <td>74.0</td>\n",
       "      <td>141.0</td>\n",
       "      <td>287.0</td>\n",
       "    </tr>\n",
       "    <tr>\n",
       "      <td>4</td>\n",
       "      <td>62.0</td>\n",
       "      <td>358.0</td>\n",
       "      <td>85.0</td>\n",
       "      <td>174.0</td>\n",
       "      <td>261.0</td>\n",
       "      <td>142.0</td>\n",
       "      <td>343.0</td>\n",
       "      <td>123.0</td>\n",
       "      <td>199.0</td>\n",
       "      <td>336.0</td>\n",
       "      <td>...</td>\n",
       "      <td>95.0</td>\n",
       "      <td>94.0</td>\n",
       "      <td>12.0</td>\n",
       "      <td>206.0</td>\n",
       "      <td>319.0</td>\n",
       "      <td>288.0</td>\n",
       "      <td>139.0</td>\n",
       "      <td>39.0</td>\n",
       "      <td>59.0</td>\n",
       "      <td>50.0</td>\n",
       "    </tr>\n",
       "    <tr>\n",
       "      <td>...</td>\n",
       "      <td>...</td>\n",
       "      <td>...</td>\n",
       "      <td>...</td>\n",
       "      <td>...</td>\n",
       "      <td>...</td>\n",
       "      <td>...</td>\n",
       "      <td>...</td>\n",
       "      <td>...</td>\n",
       "      <td>...</td>\n",
       "      <td>...</td>\n",
       "      <td>...</td>\n",
       "      <td>...</td>\n",
       "      <td>...</td>\n",
       "      <td>...</td>\n",
       "      <td>...</td>\n",
       "      <td>...</td>\n",
       "      <td>...</td>\n",
       "      <td>...</td>\n",
       "      <td>...</td>\n",
       "      <td>...</td>\n",
       "      <td>...</td>\n",
       "    </tr>\n",
       "    <tr>\n",
       "      <td>99995</td>\n",
       "      <td>136.0</td>\n",
       "      <td>355.0</td>\n",
       "      <td>282.0</td>\n",
       "      <td>169.0</td>\n",
       "      <td>328.0</td>\n",
       "      <td>104.0</td>\n",
       "      <td>216.0</td>\n",
       "      <td>229.0</td>\n",
       "      <td>73.0</td>\n",
       "      <td>91.0</td>\n",
       "      <td>...</td>\n",
       "      <td>43.0</td>\n",
       "      <td>198.0</td>\n",
       "      <td>42.0</td>\n",
       "      <td>154.0</td>\n",
       "      <td>354.0</td>\n",
       "      <td>131.0</td>\n",
       "      <td>236.0</td>\n",
       "      <td>120.0</td>\n",
       "      <td>173.0</td>\n",
       "      <td>276.0</td>\n",
       "    </tr>\n",
       "    <tr>\n",
       "      <td>99996</td>\n",
       "      <td>209.0</td>\n",
       "      <td>222.0</td>\n",
       "      <td>140.0</td>\n",
       "      <td>96.0</td>\n",
       "      <td>182.0</td>\n",
       "      <td>120.0</td>\n",
       "      <td>263.0</td>\n",
       "      <td>12.0</td>\n",
       "      <td>161.0</td>\n",
       "      <td>111.0</td>\n",
       "      <td>...</td>\n",
       "      <td>264.0</td>\n",
       "      <td>285.0</td>\n",
       "      <td>65.0</td>\n",
       "      <td>43.0</td>\n",
       "      <td>271.0</td>\n",
       "      <td>214.0</td>\n",
       "      <td>200.0</td>\n",
       "      <td>311.0</td>\n",
       "      <td>265.0</td>\n",
       "      <td>102.0</td>\n",
       "    </tr>\n",
       "    <tr>\n",
       "      <td>99997</td>\n",
       "      <td>262.0</td>\n",
       "      <td>209.0</td>\n",
       "      <td>111.0</td>\n",
       "      <td>56.0</td>\n",
       "      <td>216.0</td>\n",
       "      <td>354.0</td>\n",
       "      <td>206.0</td>\n",
       "      <td>122.0</td>\n",
       "      <td>308.0</td>\n",
       "      <td>71.0</td>\n",
       "      <td>...</td>\n",
       "      <td>147.0</td>\n",
       "      <td>256.0</td>\n",
       "      <td>143.0</td>\n",
       "      <td>180.0</td>\n",
       "      <td>177.0</td>\n",
       "      <td>322.0</td>\n",
       "      <td>109.0</td>\n",
       "      <td>115.0</td>\n",
       "      <td>39.0</td>\n",
       "      <td>330.0</td>\n",
       "    </tr>\n",
       "    <tr>\n",
       "      <td>99998</td>\n",
       "      <td>75.0</td>\n",
       "      <td>145.0</td>\n",
       "      <td>288.0</td>\n",
       "      <td>174.0</td>\n",
       "      <td>208.0</td>\n",
       "      <td>361.0</td>\n",
       "      <td>329.0</td>\n",
       "      <td>149.0</td>\n",
       "      <td>153.0</td>\n",
       "      <td>135.0</td>\n",
       "      <td>...</td>\n",
       "      <td>85.0</td>\n",
       "      <td>243.0</td>\n",
       "      <td>237.0</td>\n",
       "      <td>166.0</td>\n",
       "      <td>165.0</td>\n",
       "      <td>24.0</td>\n",
       "      <td>244.0</td>\n",
       "      <td>359.0</td>\n",
       "      <td>330.0</td>\n",
       "      <td>94.0</td>\n",
       "    </tr>\n",
       "    <tr>\n",
       "      <td>99999</td>\n",
       "      <td>50.0</td>\n",
       "      <td>10.0</td>\n",
       "      <td>204.0</td>\n",
       "      <td>360.0</td>\n",
       "      <td>104.0</td>\n",
       "      <td>82.0</td>\n",
       "      <td>326.0</td>\n",
       "      <td>7.0</td>\n",
       "      <td>103.0</td>\n",
       "      <td>197.0</td>\n",
       "      <td>...</td>\n",
       "      <td>153.0</td>\n",
       "      <td>51.0</td>\n",
       "      <td>219.0</td>\n",
       "      <td>171.0</td>\n",
       "      <td>203.0</td>\n",
       "      <td>136.0</td>\n",
       "      <td>51.0</td>\n",
       "      <td>358.0</td>\n",
       "      <td>231.0</td>\n",
       "      <td>235.0</td>\n",
       "    </tr>\n",
       "  </tbody>\n",
       "</table>\n",
       "<p>100000 rows × 23 columns</p>\n",
       "</div>"
      ],
      "text/plain": [
       "          0      1      2      3      4      5      6      7      8      9   \\\n",
       "0      200.0  282.0  186.0  264.0  351.0  322.0  171.0  111.0  332.0  227.0   \n",
       "1       11.0  124.0   81.0  271.0   56.0  288.0   51.0   43.0  281.0  240.0   \n",
       "2       62.0  329.0  195.0   26.0    8.0  317.0  347.0   23.0  181.0  238.0   \n",
       "3      204.0   66.0  291.0  199.0    9.0  332.0  201.0  282.0  297.0  138.0   \n",
       "4       62.0  358.0   85.0  174.0  261.0  142.0  343.0  123.0  199.0  336.0   \n",
       "...      ...    ...    ...    ...    ...    ...    ...    ...    ...    ...   \n",
       "99995  136.0  355.0  282.0  169.0  328.0  104.0  216.0  229.0   73.0   91.0   \n",
       "99996  209.0  222.0  140.0   96.0  182.0  120.0  263.0   12.0  161.0  111.0   \n",
       "99997  262.0  209.0  111.0   56.0  216.0  354.0  206.0  122.0  308.0   71.0   \n",
       "99998   75.0  145.0  288.0  174.0  208.0  361.0  329.0  149.0  153.0  135.0   \n",
       "99999   50.0   10.0  204.0  360.0  104.0   82.0  326.0    7.0  103.0  197.0   \n",
       "\n",
       "       ...     13     14     15     16     17     18     19     20     21  \\\n",
       "0      ...  215.0  159.0  348.0   23.0  310.0  175.0  343.0  324.0   93.0   \n",
       "1      ...  308.0    6.0  268.0   89.0  174.0  155.0  240.0   85.0  154.0   \n",
       "2      ...   52.0  287.0  160.0  255.0  311.0  302.0  281.0  342.0  145.0   \n",
       "3      ...   80.0  169.0  266.0  268.0  274.0  263.0   96.0   74.0  141.0   \n",
       "4      ...   95.0   94.0   12.0  206.0  319.0  288.0  139.0   39.0   59.0   \n",
       "...    ...    ...    ...    ...    ...    ...    ...    ...    ...    ...   \n",
       "99995  ...   43.0  198.0   42.0  154.0  354.0  131.0  236.0  120.0  173.0   \n",
       "99996  ...  264.0  285.0   65.0   43.0  271.0  214.0  200.0  311.0  265.0   \n",
       "99997  ...  147.0  256.0  143.0  180.0  177.0  322.0  109.0  115.0   39.0   \n",
       "99998  ...   85.0  243.0  237.0  166.0  165.0   24.0  244.0  359.0  330.0   \n",
       "99999  ...  153.0   51.0  219.0  171.0  203.0  136.0   51.0  358.0  231.0   \n",
       "\n",
       "          22  \n",
       "0        1.0  \n",
       "1      159.0  \n",
       "2      197.0  \n",
       "3      287.0  \n",
       "4       50.0  \n",
       "...      ...  \n",
       "99995  276.0  \n",
       "99996  102.0  \n",
       "99997  330.0  \n",
       "99998   94.0  \n",
       "99999  235.0  \n",
       "\n",
       "[100000 rows x 23 columns]"
      ]
     },
     "execution_count": 31,
     "metadata": {},
     "output_type": "execute_result"
    }
   ],
   "source": [
    "ntrials = 23\n",
    "nsims = 100000\n",
    "\n",
    "birthdays = pd.DataFrame(np.random.uniform(1, 366, size=(nsims, ntrials)).round())\n",
    "birthdays"
   ]
  },
  {
   "cell_type": "code",
   "execution_count": 32,
   "metadata": {},
   "outputs": [],
   "source": [
    "def birthday_match(one_party):\n",
    "    return one_party.duplicated().any()"
   ]
  },
  {
   "cell_type": "code",
   "execution_count": 33,
   "metadata": {},
   "outputs": [
    {
     "data": {
      "text/plain": [
       "0        False\n",
       "1         True\n",
       "2        False\n",
       "3        False\n",
       "4         True\n",
       "         ...  \n",
       "99995     True\n",
       "99996    False\n",
       "99997    False\n",
       "99998    False\n",
       "99999     True\n",
       "Length: 100000, dtype: bool"
      ]
     },
     "execution_count": 33,
     "metadata": {},
     "output_type": "execute_result"
    }
   ],
   "source": [
    "matching_birthdays = birthdays.apply(birthday_match, axis=1)\n",
    "matching_birthdays"
   ]
  },
  {
   "cell_type": "code",
   "execution_count": 34,
   "metadata": {},
   "outputs": [
    {
     "data": {
      "text/plain": [
       "0.50517"
      ]
     },
     "execution_count": 34,
     "metadata": {},
     "output_type": "execute_result"
    }
   ],
   "source": [
    "matching_birthdays.mean()"
   ]
  },
  {
   "cell_type": "markdown",
   "metadata": {},
   "source": [
    "I'm going to make a function that excutes the above so that I can give each answer simply"
   ]
  },
  {
   "cell_type": "code",
   "execution_count": 35,
   "metadata": {},
   "outputs": [],
   "source": [
    "def prob_of_mathching_birthdays(n_people, n_parties):\n",
    "    ntrials = n_people\n",
    "    nsims = n_parties\n",
    "\n",
    "    birthdays = pd.DataFrame(np.random.uniform(1, 366, size=(nsims, ntrials)).round())\n",
    "    print(f'Generated {n_parties} parties of {n_people} people')\n",
    "    print('Checking for matches...')\n",
    "    \n",
    "    matching_birthdays = birthdays.apply(birthday_match, axis=1)\n",
    "    print('Matches determined, calculating probability...')\n",
    "    \n",
    "    return matching_birthdays.mean()"
   ]
  },
  {
   "cell_type": "code",
   "execution_count": 36,
   "metadata": {},
   "outputs": [
    {
     "name": "stdout",
     "output_type": "stream",
     "text": [
      "Generated 100000 parties of 23 people\n",
      "Checking for matches...\n",
      "Matches determined, calculating probability...\n"
     ]
    },
    {
     "data": {
      "text/plain": [
       "0.50823"
      ]
     },
     "execution_count": 36,
     "metadata": {},
     "output_type": "execute_result"
    }
   ],
   "source": [
    "prob_of_mathching_birthdays(23, 100000)"
   ]
  },
  {
   "cell_type": "code",
   "execution_count": 37,
   "metadata": {},
   "outputs": [
    {
     "name": "stdout",
     "output_type": "stream",
     "text": [
      "Generated 100000 parties of 20 people\n",
      "Checking for matches...\n",
      "Matches determined, calculating probability...\n"
     ]
    },
    {
     "data": {
      "text/plain": [
       "0.41159"
      ]
     },
     "execution_count": 37,
     "metadata": {},
     "output_type": "execute_result"
    }
   ],
   "source": [
    "prob_of_mathching_birthdays(20, 100000)"
   ]
  },
  {
   "cell_type": "code",
   "execution_count": 38,
   "metadata": {},
   "outputs": [
    {
     "name": "stdout",
     "output_type": "stream",
     "text": [
      "Generated 100000 parties of 40 people\n",
      "Checking for matches...\n",
      "Matches determined, calculating probability...\n"
     ]
    },
    {
     "data": {
      "text/plain": [
       "0.89126"
      ]
     },
     "execution_count": 38,
     "metadata": {},
     "output_type": "execute_result"
    }
   ],
   "source": [
    "prob_of_mathching_birthdays(40, 100000)"
   ]
  }
 ],
 "metadata": {
  "kernelspec": {
   "display_name": "Python 3",
   "language": "python",
   "name": "python3"
  },
  "language_info": {
   "codemirror_mode": {
    "name": "ipython",
    "version": 3
   },
   "file_extension": ".py",
   "mimetype": "text/x-python",
   "name": "python",
   "nbconvert_exporter": "python",
   "pygments_lexer": "ipython3",
   "version": "3.7.4"
  }
 },
 "nbformat": 4,
 "nbformat_minor": 2
}
