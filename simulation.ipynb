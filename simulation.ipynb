{
 "cells": [
  {
   "cell_type": "markdown",
   "metadata": {},
   "source": [
    "# Simulation Exercises\n",
    "\n",
    "## How likely is it that you roll doubles when rolling two dice?"
   ]
  },
  {
   "cell_type": "code",
   "execution_count": 1,
   "metadata": {},
   "outputs": [],
   "source": [
    "import numpy as np\n",
    "import pandas as pd"
   ]
  },
  {
   "cell_type": "code",
   "execution_count": 2,
   "metadata": {},
   "outputs": [
    {
     "data": {
      "text/html": [
       "<div>\n",
       "<style scoped>\n",
       "    .dataframe tbody tr th:only-of-type {\n",
       "        vertical-align: middle;\n",
       "    }\n",
       "\n",
       "    .dataframe tbody tr th {\n",
       "        vertical-align: top;\n",
       "    }\n",
       "\n",
       "    .dataframe thead th {\n",
       "        text-align: right;\n",
       "    }\n",
       "</style>\n",
       "<table border=\"1\" class=\"dataframe\">\n",
       "  <thead>\n",
       "    <tr style=\"text-align: right;\">\n",
       "      <th></th>\n",
       "      <th>0</th>\n",
       "      <th>1</th>\n",
       "    </tr>\n",
       "  </thead>\n",
       "  <tbody>\n",
       "    <tr>\n",
       "      <td>0</td>\n",
       "      <td>3</td>\n",
       "      <td>5</td>\n",
       "    </tr>\n",
       "    <tr>\n",
       "      <td>1</td>\n",
       "      <td>6</td>\n",
       "      <td>2</td>\n",
       "    </tr>\n",
       "    <tr>\n",
       "      <td>2</td>\n",
       "      <td>3</td>\n",
       "      <td>3</td>\n",
       "    </tr>\n",
       "    <tr>\n",
       "      <td>3</td>\n",
       "      <td>1</td>\n",
       "      <td>5</td>\n",
       "    </tr>\n",
       "    <tr>\n",
       "      <td>4</td>\n",
       "      <td>1</td>\n",
       "      <td>1</td>\n",
       "    </tr>\n",
       "    <tr>\n",
       "      <td>...</td>\n",
       "      <td>...</td>\n",
       "      <td>...</td>\n",
       "    </tr>\n",
       "    <tr>\n",
       "      <td>99995</td>\n",
       "      <td>6</td>\n",
       "      <td>2</td>\n",
       "    </tr>\n",
       "    <tr>\n",
       "      <td>99996</td>\n",
       "      <td>1</td>\n",
       "      <td>4</td>\n",
       "    </tr>\n",
       "    <tr>\n",
       "      <td>99997</td>\n",
       "      <td>1</td>\n",
       "      <td>4</td>\n",
       "    </tr>\n",
       "    <tr>\n",
       "      <td>99998</td>\n",
       "      <td>2</td>\n",
       "      <td>2</td>\n",
       "    </tr>\n",
       "    <tr>\n",
       "      <td>99999</td>\n",
       "      <td>3</td>\n",
       "      <td>6</td>\n",
       "    </tr>\n",
       "  </tbody>\n",
       "</table>\n",
       "<p>100000 rows × 2 columns</p>\n",
       "</div>"
      ],
      "text/plain": [
       "       0  1\n",
       "0      3  5\n",
       "1      6  2\n",
       "2      3  3\n",
       "3      1  5\n",
       "4      1  1\n",
       "...   .. ..\n",
       "99995  6  2\n",
       "99996  1  4\n",
       "99997  1  4\n",
       "99998  2  2\n",
       "99999  3  6\n",
       "\n",
       "[100000 rows x 2 columns]"
      ]
     },
     "execution_count": 2,
     "metadata": {},
     "output_type": "execute_result"
    }
   ],
   "source": [
    "ntrials = ncols = 2\n",
    "nsims = nrows = 100_000\n",
    "\n",
    "rolls = pd.DataFrame(np.random.choice([1, 2, 3, 4, 5, 6], size=(nsims, ntrials)))\n",
    "rolls"
   ]
  },
  {
   "cell_type": "code",
   "execution_count": 3,
   "metadata": {},
   "outputs": [
    {
     "data": {
      "text/plain": [
       "0        False\n",
       "1        False\n",
       "2         True\n",
       "3        False\n",
       "4         True\n",
       "         ...  \n",
       "99995    False\n",
       "99996    False\n",
       "99997    False\n",
       "99998     True\n",
       "99999    False\n",
       "Length: 100000, dtype: bool"
      ]
     },
     "execution_count": 3,
     "metadata": {},
     "output_type": "execute_result"
    }
   ],
   "source": [
    "doubles = rolls[0] == rolls[1]\n",
    "doubles"
   ]
  },
  {
   "cell_type": "code",
   "execution_count": 4,
   "metadata": {},
   "outputs": [
    {
     "data": {
      "text/plain": [
       "0.16789"
      ]
     },
     "execution_count": 4,
     "metadata": {},
     "output_type": "execute_result"
    }
   ],
   "source": [
    "P_of_doubles = doubles.mean()\n",
    "P_of_doubles"
   ]
  },
  {
   "cell_type": "markdown",
   "metadata": {},
   "source": [
    "## If you flip 8 coins, what is the probability of getting exactly 3 heads? What is the probability of getting more than 3 heads?"
   ]
  },
  {
   "cell_type": "code",
   "execution_count": 5,
   "metadata": {},
   "outputs": [
    {
     "data": {
      "text/plain": [
       "array([[1, 1, 1, ..., 1, 1, 0],\n",
       "       [0, 0, 0, ..., 1, 0, 1],\n",
       "       [0, 1, 0, ..., 1, 1, 0],\n",
       "       ...,\n",
       "       [0, 0, 0, ..., 1, 0, 1],\n",
       "       [0, 1, 0, ..., 1, 0, 1],\n",
       "       [0, 1, 1, ..., 0, 1, 1]])"
      ]
     },
     "execution_count": 5,
     "metadata": {},
     "output_type": "execute_result"
    }
   ],
   "source": [
    "ntrials = 8\n",
    "nsims = 100_000\n",
    "\n",
    "# 1 heads, 0 tails\n",
    "flips = np.random.choice([0, 1], size=(nsims, ntrials))\n",
    "flips"
   ]
  },
  {
   "cell_type": "code",
   "execution_count": 6,
   "metadata": {},
   "outputs": [],
   "source": [
    "exactly_3_heads = (flips == 1).sum(axis=1) == 3"
   ]
  },
  {
   "cell_type": "code",
   "execution_count": 7,
   "metadata": {},
   "outputs": [
    {
     "data": {
      "text/plain": [
       "0.21759"
      ]
     },
     "execution_count": 7,
     "metadata": {},
     "output_type": "execute_result"
    }
   ],
   "source": [
    "exactly_3_heads.mean()"
   ]
  },
  {
   "cell_type": "code",
   "execution_count": 8,
   "metadata": {},
   "outputs": [
    {
     "data": {
      "text/plain": [
       "array([ True, False,  True, ..., False, False,  True])"
      ]
     },
     "execution_count": 8,
     "metadata": {},
     "output_type": "execute_result"
    }
   ],
   "source": [
    "more_than_3_heads = (flips == 1).sum(axis=1) > 3\n",
    "more_than_3_heads"
   ]
  },
  {
   "cell_type": "code",
   "execution_count": 9,
   "metadata": {},
   "outputs": [
    {
     "data": {
      "text/plain": [
       "0.63819"
      ]
     },
     "execution_count": 9,
     "metadata": {},
     "output_type": "execute_result"
    }
   ],
   "source": [
    "more_than_3_heads.mean()"
   ]
  },
  {
   "cell_type": "markdown",
   "metadata": {},
   "source": [
    "## There are approximitely 3 web development cohorts for every 1 data science cohort at Codeup. Assuming that Codeup randomly selects an alumni to put on a billboard, what are the odds that the two billboards I drive past both have data science students on them?"
   ]
  },
  {
   "cell_type": "code",
   "execution_count": 10,
   "metadata": {},
   "outputs": [
    {
     "data": {
      "text/plain": [
       "array([['Web Dev'],\n",
       "       ['Web Dev'],\n",
       "       ['Web Dev'],\n",
       "       ...,\n",
       "       ['Web Dev'],\n",
       "       ['Web Dev'],\n",
       "       ['Web Dev']], dtype='<U12')"
      ]
     },
     "execution_count": 10,
     "metadata": {},
     "output_type": "execute_result"
    }
   ],
   "source": [
    "ntrials = 1\n",
    "nsims = 100_000\n",
    "\n",
    "billboards = np.random.choice(['Web Dev', 'Data Science'], p=[3/4, 1/4], size=(nsims, ntrials))\n",
    "billboards"
   ]
  },
  {
   "cell_type": "code",
   "execution_count": 11,
   "metadata": {},
   "outputs": [
    {
     "data": {
      "text/plain": [
       "0.24882"
      ]
     },
     "execution_count": 11,
     "metadata": {},
     "output_type": "execute_result"
    }
   ],
   "source": [
    "(billboards == 'Data Science').mean()"
   ]
  },
  {
   "cell_type": "markdown",
   "metadata": {},
   "source": [
    "## Codeup students buy, on average, 3 poptart packages (+- 1.5) a day from the snack vending machine. If on monday the machine is restocked with 17 poptart packages, how likely is it that I will be able to buy some poptarts on Friday afternoon?"
   ]
  },
  {
   "cell_type": "code",
   "execution_count": 12,
   "metadata": {},
   "outputs": [
    {
     "data": {
      "text/plain": [
       "array([[4., 1., 4., 3., 3.],\n",
       "       [4., 2., 1., 4., 4.],\n",
       "       [3., 2., 5., 4., 1.],\n",
       "       ...,\n",
       "       [3., 5., 4., 3., 2.],\n",
       "       [4., 3., 4., 1., 3.],\n",
       "       [3., 5., 5., 3., 3.]])"
      ]
     },
     "execution_count": 12,
     "metadata": {},
     "output_type": "execute_result"
    }
   ],
   "source": [
    "ntrials = ncols = 5\n",
    "nsims = nrows = 100_000\n",
    "\n",
    "poptarts = np.random.normal(3, 1.5, size=(nrows, ncols)).round()\n",
    "poptarts"
   ]
  },
  {
   "cell_type": "code",
   "execution_count": 13,
   "metadata": {},
   "outputs": [
    {
     "data": {
      "text/plain": [
       "array([[4., 1., 4., 3., 3.],\n",
       "       [4., 2., 1., 4., 4.],\n",
       "       [3., 2., 5., 4., 1.],\n",
       "       ...,\n",
       "       [3., 5., 4., 3., 2.],\n",
       "       [4., 3., 4., 1., 3.],\n",
       "       [3., 5., 5., 3., 3.]])"
      ]
     },
     "execution_count": 13,
     "metadata": {},
     "output_type": "execute_result"
    }
   ],
   "source": [
    "no_neg_poptarts = np.where(poptarts < 0, 0, poptarts)\n",
    "no_neg_poptarts"
   ]
  },
  {
   "cell_type": "code",
   "execution_count": 14,
   "metadata": {},
   "outputs": [
    {
     "data": {
      "text/plain": [
       "array([ True,  True,  True, ..., False,  True, False])"
      ]
     },
     "execution_count": 14,
     "metadata": {},
     "output_type": "execute_result"
    }
   ],
   "source": [
    "has_left_overs = no_neg_poptarts.sum(axis=1) < 17\n",
    "has_left_overs"
   ]
  },
  {
   "cell_type": "code",
   "execution_count": 15,
   "metadata": {},
   "outputs": [
    {
     "data": {
      "text/plain": [
       "0.66867"
      ]
     },
     "execution_count": 15,
     "metadata": {},
     "output_type": "execute_result"
    }
   ],
   "source": [
    "has_left_overs.mean()"
   ]
  },
  {
   "cell_type": "markdown",
   "metadata": {},
   "source": [
    "## Compare Heights\n",
    "\n",
    "* Men have an average height of 178 cm and standard deviation of 8cm.\n",
    "* Women have a mean of 170, sd = 6cm.\n",
    "* If a man and woman are chosen at random, P(woman taller than man)?"
   ]
  },
  {
   "cell_type": "code",
   "execution_count": 16,
   "metadata": {},
   "outputs": [
    {
     "data": {
      "text/plain": [
       "array([172.44353843, 172.63888954, 181.22563437, ..., 177.25446465,\n",
       "       175.07950699, 176.02429863])"
      ]
     },
     "execution_count": 16,
     "metadata": {},
     "output_type": "execute_result"
    }
   ],
   "source": [
    "nsims = 100_000\n",
    "\n",
    "men = np.random.normal(178, 8, size=nsims)\n",
    "men"
   ]
  },
  {
   "cell_type": "code",
   "execution_count": 17,
   "metadata": {},
   "outputs": [
    {
     "data": {
      "text/plain": [
       "array([164.55537908, 166.98212721, 170.11514042, ..., 175.63945316,\n",
       "       168.39697632, 165.27048344])"
      ]
     },
     "execution_count": 17,
     "metadata": {},
     "output_type": "execute_result"
    }
   ],
   "source": [
    "women = np.random.normal(170, 6, size=nsims)\n",
    "women"
   ]
  },
  {
   "cell_type": "code",
   "execution_count": 18,
   "metadata": {},
   "outputs": [
    {
     "data": {
      "text/plain": [
       "0.21164"
      ]
     },
     "execution_count": 18,
     "metadata": {},
     "output_type": "execute_result"
    }
   ],
   "source": [
    "(men < women).mean()"
   ]
  },
  {
   "cell_type": "markdown",
   "metadata": {},
   "source": [
    "## When installing anaconda on a student's computer, there's a 1 in 250 chance that the download is corrupted and the installation fails. What are the odds that after having 50 students download anaconda, no one has an installation issue? 100 students?"
   ]
  },
  {
   "cell_type": "code",
   "execution_count": 19,
   "metadata": {},
   "outputs": [],
   "source": [
    "def prob_no_anaconda_corruption(students, number_of_sims_to_run):\n",
    "    ntrials = ncols = students\n",
    "    nsims = nrows = number_of_sims_to_run\n",
    "\n",
    "    installs = np.random.choice([0, 1], p=[1/250, 249/250], size=(nrows, ncols))\n",
    "    \n",
    "    no_corruptions = installs.sum(axis=1) == students\n",
    "    \n",
    "    return no_corruptions.mean()"
   ]
  },
  {
   "cell_type": "code",
   "execution_count": 20,
   "metadata": {},
   "outputs": [
    {
     "data": {
      "text/plain": [
       "0.81641"
      ]
     },
     "execution_count": 20,
     "metadata": {},
     "output_type": "execute_result"
    }
   ],
   "source": [
    "prob_no_anaconda_corruption(50, 100_000)"
   ]
  },
  {
   "cell_type": "code",
   "execution_count": 21,
   "metadata": {},
   "outputs": [
    {
     "data": {
      "text/plain": [
       "0.67015"
      ]
     },
     "execution_count": 21,
     "metadata": {},
     "output_type": "execute_result"
    }
   ],
   "source": [
    "prob_no_anaconda_corruption(100, 100_000)"
   ]
  },
  {
   "cell_type": "markdown",
   "metadata": {},
   "source": [
    "### What is the probability that we observe an installation issue within the first 150 students that download anaconda?"
   ]
  },
  {
   "cell_type": "code",
   "execution_count": 22,
   "metadata": {},
   "outputs": [],
   "source": [
    "def prob_anaconda_corruption(students, number_of_sims_to_run):\n",
    "    ntrials = ncols = students\n",
    "    nsims = nrows = number_of_sims_to_run\n",
    "\n",
    "    installs = np.random.choice([0, 1], p=[1/250, 249/250], size=(nrows, ncols))\n",
    "    \n",
    "    has_corruptions = installs.sum(axis=1) < students\n",
    "    \n",
    "    return has_corruptions.mean()"
   ]
  },
  {
   "cell_type": "code",
   "execution_count": 23,
   "metadata": {},
   "outputs": [
    {
     "data": {
      "text/plain": [
       "0.44956"
      ]
     },
     "execution_count": 23,
     "metadata": {},
     "output_type": "execute_result"
    }
   ],
   "source": [
    "prob_anaconda_corruption(150, 100_000)"
   ]
  },
  {
   "cell_type": "markdown",
   "metadata": {},
   "source": [
    "### How likely is it that 450 students all download anaconda without an issue?"
   ]
  },
  {
   "cell_type": "code",
   "execution_count": 24,
   "metadata": {},
   "outputs": [
    {
     "data": {
      "text/plain": [
       "0.16518"
      ]
     },
     "execution_count": 24,
     "metadata": {},
     "output_type": "execute_result"
    }
   ],
   "source": [
    "prob_no_anaconda_corruption(450, 100_000)"
   ]
  },
  {
   "cell_type": "markdown",
   "metadata": {},
   "source": [
    "## There's a 70% chance on any given day that there will be at least one food truck at Travis Park. However, you haven't seen a food truck there in 3 days. How unlikely is this?"
   ]
  },
  {
   "cell_type": "code",
   "execution_count": 25,
   "metadata": {},
   "outputs": [
    {
     "data": {
      "text/plain": [
       "array([[1, 0, 1],\n",
       "       [0, 1, 1],\n",
       "       [1, 0, 1],\n",
       "       ...,\n",
       "       [0, 1, 1],\n",
       "       [1, 1, 1],\n",
       "       [1, 1, 1]])"
      ]
     },
     "execution_count": 25,
     "metadata": {},
     "output_type": "execute_result"
    }
   ],
   "source": [
    "ntrials = 3\n",
    "nsims = 100_000\n",
    "\n",
    "# 0 is no food trucks, 1 is at least 1 food truck\n",
    "food_trucks = np.random.choice([0, 1], p=[.3, .7], size=(nsims, ntrials))\n",
    "food_trucks"
   ]
  },
  {
   "cell_type": "code",
   "execution_count": 26,
   "metadata": {},
   "outputs": [
    {
     "data": {
      "text/plain": [
       "array([False, False, False, ..., False, False, False])"
      ]
     },
     "execution_count": 26,
     "metadata": {},
     "output_type": "execute_result"
    }
   ],
   "source": [
    "no_food_trucks = food_trucks.sum(axis=1) == 0\n",
    "no_food_trucks"
   ]
  },
  {
   "cell_type": "code",
   "execution_count": 27,
   "metadata": {},
   "outputs": [
    {
     "data": {
      "text/plain": [
       "0.02713"
      ]
     },
     "execution_count": 27,
     "metadata": {},
     "output_type": "execute_result"
    }
   ],
   "source": [
    "no_food_trucks.mean()"
   ]
  },
  {
   "cell_type": "markdown",
   "metadata": {},
   "source": [
    "### How likely is it that a food truck will show up sometime this week?"
   ]
  },
  {
   "cell_type": "code",
   "execution_count": 28,
   "metadata": {},
   "outputs": [
    {
     "data": {
      "text/plain": [
       "array([[1, 1, 1, ..., 0, 0, 1],\n",
       "       [1, 1, 1, ..., 1, 0, 1],\n",
       "       [1, 1, 0, ..., 0, 0, 1],\n",
       "       ...,\n",
       "       [1, 0, 1, ..., 1, 1, 1],\n",
       "       [1, 1, 1, ..., 0, 0, 1],\n",
       "       [1, 1, 1, ..., 0, 1, 1]])"
      ]
     },
     "execution_count": 28,
     "metadata": {},
     "output_type": "execute_result"
    }
   ],
   "source": [
    "ntrials = 7\n",
    "nsims = 100_000\n",
    "\n",
    "food_trucks = np.random.choice([0, 1], p=[.3, .7], size =(nsims, ntrials))\n",
    "food_trucks"
   ]
  },
  {
   "cell_type": "code",
   "execution_count": 29,
   "metadata": {},
   "outputs": [
    {
     "data": {
      "text/plain": [
       "array([ True,  True,  True, ...,  True,  True,  True])"
      ]
     },
     "execution_count": 29,
     "metadata": {},
     "output_type": "execute_result"
    }
   ],
   "source": [
    "at_least_one_food_truck = food_trucks.sum(axis=1) > 0\n",
    "at_least_one_food_truck"
   ]
  },
  {
   "cell_type": "code",
   "execution_count": 30,
   "metadata": {},
   "outputs": [
    {
     "data": {
      "text/plain": [
       "0.99978"
      ]
     },
     "execution_count": 30,
     "metadata": {},
     "output_type": "execute_result"
    }
   ],
   "source": [
    "at_least_one_food_truck.mean()"
   ]
  },
  {
   "cell_type": "markdown",
   "metadata": {},
   "source": [
    "## If 23 people are in the same room, what are the odds that two of them share a birthday? What if it's 20 people? 40?"
   ]
  },
  {
   "cell_type": "code",
   "execution_count": 31,
   "metadata": {},
   "outputs": [
    {
     "data": {
      "text/html": [
       "<div>\n",
       "<style scoped>\n",
       "    .dataframe tbody tr th:only-of-type {\n",
       "        vertical-align: middle;\n",
       "    }\n",
       "\n",
       "    .dataframe tbody tr th {\n",
       "        vertical-align: top;\n",
       "    }\n",
       "\n",
       "    .dataframe thead th {\n",
       "        text-align: right;\n",
       "    }\n",
       "</style>\n",
       "<table border=\"1\" class=\"dataframe\">\n",
       "  <thead>\n",
       "    <tr style=\"text-align: right;\">\n",
       "      <th></th>\n",
       "      <th>0</th>\n",
       "      <th>1</th>\n",
       "      <th>2</th>\n",
       "      <th>3</th>\n",
       "      <th>4</th>\n",
       "      <th>5</th>\n",
       "      <th>6</th>\n",
       "      <th>7</th>\n",
       "      <th>8</th>\n",
       "      <th>9</th>\n",
       "      <th>...</th>\n",
       "      <th>13</th>\n",
       "      <th>14</th>\n",
       "      <th>15</th>\n",
       "      <th>16</th>\n",
       "      <th>17</th>\n",
       "      <th>18</th>\n",
       "      <th>19</th>\n",
       "      <th>20</th>\n",
       "      <th>21</th>\n",
       "      <th>22</th>\n",
       "    </tr>\n",
       "  </thead>\n",
       "  <tbody>\n",
       "    <tr>\n",
       "      <td>0</td>\n",
       "      <td>4.0</td>\n",
       "      <td>355.0</td>\n",
       "      <td>22.0</td>\n",
       "      <td>251.0</td>\n",
       "      <td>47.0</td>\n",
       "      <td>117.0</td>\n",
       "      <td>25.0</td>\n",
       "      <td>312.0</td>\n",
       "      <td>105.0</td>\n",
       "      <td>308.0</td>\n",
       "      <td>...</td>\n",
       "      <td>284.0</td>\n",
       "      <td>198.0</td>\n",
       "      <td>166.0</td>\n",
       "      <td>114.0</td>\n",
       "      <td>144.0</td>\n",
       "      <td>174.0</td>\n",
       "      <td>254.0</td>\n",
       "      <td>101.0</td>\n",
       "      <td>190.0</td>\n",
       "      <td>135.0</td>\n",
       "    </tr>\n",
       "    <tr>\n",
       "      <td>1</td>\n",
       "      <td>119.0</td>\n",
       "      <td>17.0</td>\n",
       "      <td>355.0</td>\n",
       "      <td>39.0</td>\n",
       "      <td>318.0</td>\n",
       "      <td>33.0</td>\n",
       "      <td>330.0</td>\n",
       "      <td>133.0</td>\n",
       "      <td>75.0</td>\n",
       "      <td>161.0</td>\n",
       "      <td>...</td>\n",
       "      <td>6.0</td>\n",
       "      <td>66.0</td>\n",
       "      <td>96.0</td>\n",
       "      <td>331.0</td>\n",
       "      <td>228.0</td>\n",
       "      <td>106.0</td>\n",
       "      <td>163.0</td>\n",
       "      <td>22.0</td>\n",
       "      <td>40.0</td>\n",
       "      <td>51.0</td>\n",
       "    </tr>\n",
       "    <tr>\n",
       "      <td>2</td>\n",
       "      <td>197.0</td>\n",
       "      <td>249.0</td>\n",
       "      <td>324.0</td>\n",
       "      <td>281.0</td>\n",
       "      <td>127.0</td>\n",
       "      <td>189.0</td>\n",
       "      <td>115.0</td>\n",
       "      <td>188.0</td>\n",
       "      <td>40.0</td>\n",
       "      <td>261.0</td>\n",
       "      <td>...</td>\n",
       "      <td>311.0</td>\n",
       "      <td>222.0</td>\n",
       "      <td>107.0</td>\n",
       "      <td>53.0</td>\n",
       "      <td>12.0</td>\n",
       "      <td>108.0</td>\n",
       "      <td>189.0</td>\n",
       "      <td>24.0</td>\n",
       "      <td>262.0</td>\n",
       "      <td>354.0</td>\n",
       "    </tr>\n",
       "    <tr>\n",
       "      <td>3</td>\n",
       "      <td>174.0</td>\n",
       "      <td>61.0</td>\n",
       "      <td>138.0</td>\n",
       "      <td>96.0</td>\n",
       "      <td>133.0</td>\n",
       "      <td>304.0</td>\n",
       "      <td>14.0</td>\n",
       "      <td>290.0</td>\n",
       "      <td>281.0</td>\n",
       "      <td>195.0</td>\n",
       "      <td>...</td>\n",
       "      <td>29.0</td>\n",
       "      <td>116.0</td>\n",
       "      <td>55.0</td>\n",
       "      <td>255.0</td>\n",
       "      <td>29.0</td>\n",
       "      <td>232.0</td>\n",
       "      <td>234.0</td>\n",
       "      <td>57.0</td>\n",
       "      <td>29.0</td>\n",
       "      <td>139.0</td>\n",
       "    </tr>\n",
       "    <tr>\n",
       "      <td>4</td>\n",
       "      <td>203.0</td>\n",
       "      <td>354.0</td>\n",
       "      <td>262.0</td>\n",
       "      <td>125.0</td>\n",
       "      <td>358.0</td>\n",
       "      <td>259.0</td>\n",
       "      <td>213.0</td>\n",
       "      <td>339.0</td>\n",
       "      <td>133.0</td>\n",
       "      <td>8.0</td>\n",
       "      <td>...</td>\n",
       "      <td>205.0</td>\n",
       "      <td>218.0</td>\n",
       "      <td>136.0</td>\n",
       "      <td>321.0</td>\n",
       "      <td>132.0</td>\n",
       "      <td>91.0</td>\n",
       "      <td>280.0</td>\n",
       "      <td>54.0</td>\n",
       "      <td>125.0</td>\n",
       "      <td>283.0</td>\n",
       "    </tr>\n",
       "    <tr>\n",
       "      <td>...</td>\n",
       "      <td>...</td>\n",
       "      <td>...</td>\n",
       "      <td>...</td>\n",
       "      <td>...</td>\n",
       "      <td>...</td>\n",
       "      <td>...</td>\n",
       "      <td>...</td>\n",
       "      <td>...</td>\n",
       "      <td>...</td>\n",
       "      <td>...</td>\n",
       "      <td>...</td>\n",
       "      <td>...</td>\n",
       "      <td>...</td>\n",
       "      <td>...</td>\n",
       "      <td>...</td>\n",
       "      <td>...</td>\n",
       "      <td>...</td>\n",
       "      <td>...</td>\n",
       "      <td>...</td>\n",
       "      <td>...</td>\n",
       "      <td>...</td>\n",
       "    </tr>\n",
       "    <tr>\n",
       "      <td>99995</td>\n",
       "      <td>326.0</td>\n",
       "      <td>300.0</td>\n",
       "      <td>140.0</td>\n",
       "      <td>32.0</td>\n",
       "      <td>53.0</td>\n",
       "      <td>51.0</td>\n",
       "      <td>93.0</td>\n",
       "      <td>123.0</td>\n",
       "      <td>189.0</td>\n",
       "      <td>75.0</td>\n",
       "      <td>...</td>\n",
       "      <td>210.0</td>\n",
       "      <td>45.0</td>\n",
       "      <td>134.0</td>\n",
       "      <td>218.0</td>\n",
       "      <td>183.0</td>\n",
       "      <td>33.0</td>\n",
       "      <td>109.0</td>\n",
       "      <td>312.0</td>\n",
       "      <td>278.0</td>\n",
       "      <td>264.0</td>\n",
       "    </tr>\n",
       "    <tr>\n",
       "      <td>99996</td>\n",
       "      <td>221.0</td>\n",
       "      <td>155.0</td>\n",
       "      <td>185.0</td>\n",
       "      <td>55.0</td>\n",
       "      <td>292.0</td>\n",
       "      <td>197.0</td>\n",
       "      <td>52.0</td>\n",
       "      <td>263.0</td>\n",
       "      <td>208.0</td>\n",
       "      <td>151.0</td>\n",
       "      <td>...</td>\n",
       "      <td>74.0</td>\n",
       "      <td>351.0</td>\n",
       "      <td>14.0</td>\n",
       "      <td>151.0</td>\n",
       "      <td>92.0</td>\n",
       "      <td>176.0</td>\n",
       "      <td>275.0</td>\n",
       "      <td>171.0</td>\n",
       "      <td>242.0</td>\n",
       "      <td>219.0</td>\n",
       "    </tr>\n",
       "    <tr>\n",
       "      <td>99997</td>\n",
       "      <td>78.0</td>\n",
       "      <td>21.0</td>\n",
       "      <td>331.0</td>\n",
       "      <td>151.0</td>\n",
       "      <td>311.0</td>\n",
       "      <td>20.0</td>\n",
       "      <td>139.0</td>\n",
       "      <td>294.0</td>\n",
       "      <td>108.0</td>\n",
       "      <td>302.0</td>\n",
       "      <td>...</td>\n",
       "      <td>111.0</td>\n",
       "      <td>91.0</td>\n",
       "      <td>143.0</td>\n",
       "      <td>11.0</td>\n",
       "      <td>146.0</td>\n",
       "      <td>90.0</td>\n",
       "      <td>153.0</td>\n",
       "      <td>334.0</td>\n",
       "      <td>23.0</td>\n",
       "      <td>311.0</td>\n",
       "    </tr>\n",
       "    <tr>\n",
       "      <td>99998</td>\n",
       "      <td>206.0</td>\n",
       "      <td>175.0</td>\n",
       "      <td>234.0</td>\n",
       "      <td>101.0</td>\n",
       "      <td>209.0</td>\n",
       "      <td>131.0</td>\n",
       "      <td>301.0</td>\n",
       "      <td>261.0</td>\n",
       "      <td>56.0</td>\n",
       "      <td>156.0</td>\n",
       "      <td>...</td>\n",
       "      <td>124.0</td>\n",
       "      <td>127.0</td>\n",
       "      <td>48.0</td>\n",
       "      <td>268.0</td>\n",
       "      <td>28.0</td>\n",
       "      <td>339.0</td>\n",
       "      <td>252.0</td>\n",
       "      <td>158.0</td>\n",
       "      <td>31.0</td>\n",
       "      <td>361.0</td>\n",
       "    </tr>\n",
       "    <tr>\n",
       "      <td>99999</td>\n",
       "      <td>250.0</td>\n",
       "      <td>245.0</td>\n",
       "      <td>357.0</td>\n",
       "      <td>228.0</td>\n",
       "      <td>107.0</td>\n",
       "      <td>149.0</td>\n",
       "      <td>5.0</td>\n",
       "      <td>254.0</td>\n",
       "      <td>172.0</td>\n",
       "      <td>33.0</td>\n",
       "      <td>...</td>\n",
       "      <td>62.0</td>\n",
       "      <td>256.0</td>\n",
       "      <td>322.0</td>\n",
       "      <td>160.0</td>\n",
       "      <td>173.0</td>\n",
       "      <td>90.0</td>\n",
       "      <td>304.0</td>\n",
       "      <td>21.0</td>\n",
       "      <td>360.0</td>\n",
       "      <td>189.0</td>\n",
       "    </tr>\n",
       "  </tbody>\n",
       "</table>\n",
       "<p>100000 rows × 23 columns</p>\n",
       "</div>"
      ],
      "text/plain": [
       "          0      1      2      3      4      5      6      7      8      9   \\\n",
       "0        4.0  355.0   22.0  251.0   47.0  117.0   25.0  312.0  105.0  308.0   \n",
       "1      119.0   17.0  355.0   39.0  318.0   33.0  330.0  133.0   75.0  161.0   \n",
       "2      197.0  249.0  324.0  281.0  127.0  189.0  115.0  188.0   40.0  261.0   \n",
       "3      174.0   61.0  138.0   96.0  133.0  304.0   14.0  290.0  281.0  195.0   \n",
       "4      203.0  354.0  262.0  125.0  358.0  259.0  213.0  339.0  133.0    8.0   \n",
       "...      ...    ...    ...    ...    ...    ...    ...    ...    ...    ...   \n",
       "99995  326.0  300.0  140.0   32.0   53.0   51.0   93.0  123.0  189.0   75.0   \n",
       "99996  221.0  155.0  185.0   55.0  292.0  197.0   52.0  263.0  208.0  151.0   \n",
       "99997   78.0   21.0  331.0  151.0  311.0   20.0  139.0  294.0  108.0  302.0   \n",
       "99998  206.0  175.0  234.0  101.0  209.0  131.0  301.0  261.0   56.0  156.0   \n",
       "99999  250.0  245.0  357.0  228.0  107.0  149.0    5.0  254.0  172.0   33.0   \n",
       "\n",
       "       ...     13     14     15     16     17     18     19     20     21  \\\n",
       "0      ...  284.0  198.0  166.0  114.0  144.0  174.0  254.0  101.0  190.0   \n",
       "1      ...    6.0   66.0   96.0  331.0  228.0  106.0  163.0   22.0   40.0   \n",
       "2      ...  311.0  222.0  107.0   53.0   12.0  108.0  189.0   24.0  262.0   \n",
       "3      ...   29.0  116.0   55.0  255.0   29.0  232.0  234.0   57.0   29.0   \n",
       "4      ...  205.0  218.0  136.0  321.0  132.0   91.0  280.0   54.0  125.0   \n",
       "...    ...    ...    ...    ...    ...    ...    ...    ...    ...    ...   \n",
       "99995  ...  210.0   45.0  134.0  218.0  183.0   33.0  109.0  312.0  278.0   \n",
       "99996  ...   74.0  351.0   14.0  151.0   92.0  176.0  275.0  171.0  242.0   \n",
       "99997  ...  111.0   91.0  143.0   11.0  146.0   90.0  153.0  334.0   23.0   \n",
       "99998  ...  124.0  127.0   48.0  268.0   28.0  339.0  252.0  158.0   31.0   \n",
       "99999  ...   62.0  256.0  322.0  160.0  173.0   90.0  304.0   21.0  360.0   \n",
       "\n",
       "          22  \n",
       "0      135.0  \n",
       "1       51.0  \n",
       "2      354.0  \n",
       "3      139.0  \n",
       "4      283.0  \n",
       "...      ...  \n",
       "99995  264.0  \n",
       "99996  219.0  \n",
       "99997  311.0  \n",
       "99998  361.0  \n",
       "99999  189.0  \n",
       "\n",
       "[100000 rows x 23 columns]"
      ]
     },
     "execution_count": 31,
     "metadata": {},
     "output_type": "execute_result"
    }
   ],
   "source": [
    "ntrials = 23\n",
    "nsims = 100000\n",
    "\n",
    "birthdays = pd.DataFrame(np.random.uniform(1, 366, size=(nsims, ntrials)).round())\n",
    "birthdays"
   ]
  },
  {
   "cell_type": "code",
   "execution_count": 32,
   "metadata": {},
   "outputs": [],
   "source": [
    "def birthday_match(one_party):\n",
    "    return one_party.duplicated().any()"
   ]
  },
  {
   "cell_type": "code",
   "execution_count": 33,
   "metadata": {},
   "outputs": [
    {
     "data": {
      "text/plain": [
       "0         True\n",
       "1        False\n",
       "2         True\n",
       "3         True\n",
       "4         True\n",
       "         ...  \n",
       "99995    False\n",
       "99996     True\n",
       "99997     True\n",
       "99998    False\n",
       "99999    False\n",
       "Length: 100000, dtype: bool"
      ]
     },
     "execution_count": 33,
     "metadata": {},
     "output_type": "execute_result"
    }
   ],
   "source": [
    "matching_birthdays = birthdays.apply(birthday_match, axis=1)\n",
    "matching_birthdays"
   ]
  },
  {
   "cell_type": "code",
   "execution_count": 34,
   "metadata": {},
   "outputs": [
    {
     "data": {
      "text/plain": [
       "0.50925"
      ]
     },
     "execution_count": 34,
     "metadata": {},
     "output_type": "execute_result"
    }
   ],
   "source": [
    "matching_birthdays.mean()"
   ]
  },
  {
   "cell_type": "markdown",
   "metadata": {},
   "source": [
    "I'm going to make a function that excutes the above so that I can give each answer simply"
   ]
  },
  {
   "cell_type": "code",
   "execution_count": 35,
   "metadata": {},
   "outputs": [],
   "source": [
    "def prob_of_mathching_birthdays(n_people, n_parties):\n",
    "    ntrials = n_people\n",
    "    nsims = n_parties\n",
    "\n",
    "    birthdays = pd.DataFrame(np.random.uniform(1, 366, size=(nsims, ntrials)).round())\n",
    "    print(f'Generated {n_parties} parties of {n_people} people')\n",
    "    print('Checking for matches...')\n",
    "    \n",
    "    matching_birthdays = birthdays.apply(birthday_match, axis=1)\n",
    "    print('Matches determined, calculating probability...')\n",
    "    \n",
    "    return matching_birthdays.mean()"
   ]
  },
  {
   "cell_type": "code",
   "execution_count": 36,
   "metadata": {},
   "outputs": [
    {
     "name": "stdout",
     "output_type": "stream",
     "text": [
      "Generated 100000 parties of 23 people\n",
      "Checking for matches...\n",
      "Matches determined, calculating probability...\n"
     ]
    },
    {
     "data": {
      "text/plain": [
       "0.50713"
      ]
     },
     "execution_count": 36,
     "metadata": {},
     "output_type": "execute_result"
    }
   ],
   "source": [
    "prob_of_mathching_birthdays(23, 100000)"
   ]
  },
  {
   "cell_type": "code",
   "execution_count": 37,
   "metadata": {},
   "outputs": [
    {
     "name": "stdout",
     "output_type": "stream",
     "text": [
      "Generated 100000 parties of 20 people\n",
      "Checking for matches...\n",
      "Matches determined, calculating probability...\n"
     ]
    },
    {
     "data": {
      "text/plain": [
       "0.40975"
      ]
     },
     "execution_count": 37,
     "metadata": {},
     "output_type": "execute_result"
    }
   ],
   "source": [
    "prob_of_mathching_birthdays(20, 100000)"
   ]
  },
  {
   "cell_type": "code",
   "execution_count": 38,
   "metadata": {},
   "outputs": [
    {
     "name": "stdout",
     "output_type": "stream",
     "text": [
      "Generated 100000 parties of 40 people\n",
      "Checking for matches...\n",
      "Matches determined, calculating probability...\n"
     ]
    },
    {
     "data": {
      "text/plain": [
       "0.89134"
      ]
     },
     "execution_count": 38,
     "metadata": {},
     "output_type": "execute_result"
    }
   ],
   "source": [
    "prob_of_mathching_birthdays(40, 100000)"
   ]
  }
 ],
 "metadata": {
  "kernelspec": {
   "display_name": "Python 3",
   "language": "python",
   "name": "python3"
  },
  "language_info": {
   "codemirror_mode": {
    "name": "ipython",
    "version": 3
   },
   "file_extension": ".py",
   "mimetype": "text/x-python",
   "name": "python",
   "nbconvert_exporter": "python",
   "pygments_lexer": "ipython3",
   "version": "3.7.4"
  }
 },
 "nbformat": 4,
 "nbformat_minor": 2
}
