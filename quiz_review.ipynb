{
 "cells": [
  {
   "cell_type": "code",
   "execution_count": 7,
   "metadata": {},
   "outputs": [],
   "source": [
    "import numpy as np\n",
    "import pandas as pd\n",
    "from pydataset import data\n",
    "from scipy import stats\n",
    "\n",
    "np.random.seed(42)"
   ]
  },
  {
   "cell_type": "code",
   "execution_count": 8,
   "metadata": {},
   "outputs": [
    {
     "data": {
      "text/plain": [
       "'manaus'"
      ]
     },
     "execution_count": 8,
     "metadata": {},
     "output_type": "execute_result"
    }
   ],
   "source": [
    "datasets = data()\n",
    "random_dataset = datasets.iloc[np.random.choice(range(0, 757))].dataset_id\n",
    "random_dataset"
   ]
  },
  {
   "cell_type": "code",
   "execution_count": 9,
   "metadata": {},
   "outputs": [
    {
     "data": {
      "text/html": [
       "<div>\n",
       "<style scoped>\n",
       "    .dataframe tbody tr th:only-of-type {\n",
       "        vertical-align: middle;\n",
       "    }\n",
       "\n",
       "    .dataframe tbody tr th {\n",
       "        vertical-align: top;\n",
       "    }\n",
       "\n",
       "    .dataframe thead th {\n",
       "        text-align: right;\n",
       "    }\n",
       "</style>\n",
       "<table border=\"1\" class=\"dataframe\">\n",
       "  <thead>\n",
       "    <tr style=\"text-align: right;\">\n",
       "      <th></th>\n",
       "      <th>time</th>\n",
       "      <th>manaus</th>\n",
       "    </tr>\n",
       "  </thead>\n",
       "  <tbody>\n",
       "    <tr>\n",
       "      <td>1</td>\n",
       "      <td>1903.000000</td>\n",
       "      <td>-1.12422</td>\n",
       "    </tr>\n",
       "    <tr>\n",
       "      <td>2</td>\n",
       "      <td>1903.083333</td>\n",
       "      <td>-1.16433</td>\n",
       "    </tr>\n",
       "    <tr>\n",
       "      <td>3</td>\n",
       "      <td>1903.166667</td>\n",
       "      <td>-1.34911</td>\n",
       "    </tr>\n",
       "    <tr>\n",
       "      <td>4</td>\n",
       "      <td>1903.250000</td>\n",
       "      <td>-0.94544</td>\n",
       "    </tr>\n",
       "    <tr>\n",
       "      <td>5</td>\n",
       "      <td>1903.333333</td>\n",
       "      <td>-0.65367</td>\n",
       "    </tr>\n",
       "    <tr>\n",
       "      <td>...</td>\n",
       "      <td>...</td>\n",
       "      <td>...</td>\n",
       "    </tr>\n",
       "    <tr>\n",
       "      <td>1076</td>\n",
       "      <td>1992.583333</td>\n",
       "      <td>-3.47167</td>\n",
       "    </tr>\n",
       "    <tr>\n",
       "      <td>1077</td>\n",
       "      <td>1992.666667</td>\n",
       "      <td>-1.94522</td>\n",
       "    </tr>\n",
       "    <tr>\n",
       "      <td>1078</td>\n",
       "      <td>1992.750000</td>\n",
       "      <td>-0.20289</td>\n",
       "    </tr>\n",
       "    <tr>\n",
       "      <td>1079</td>\n",
       "      <td>1992.833333</td>\n",
       "      <td>-0.83689</td>\n",
       "    </tr>\n",
       "    <tr>\n",
       "      <td>1080</td>\n",
       "      <td>1992.916667</td>\n",
       "      <td>0.31667</td>\n",
       "    </tr>\n",
       "  </tbody>\n",
       "</table>\n",
       "<p>1080 rows × 2 columns</p>\n",
       "</div>"
      ],
      "text/plain": [
       "             time   manaus\n",
       "1     1903.000000 -1.12422\n",
       "2     1903.083333 -1.16433\n",
       "3     1903.166667 -1.34911\n",
       "4     1903.250000 -0.94544\n",
       "5     1903.333333 -0.65367\n",
       "...           ...      ...\n",
       "1076  1992.583333 -3.47167\n",
       "1077  1992.666667 -1.94522\n",
       "1078  1992.750000 -0.20289\n",
       "1079  1992.833333 -0.83689\n",
       "1080  1992.916667  0.31667\n",
       "\n",
       "[1080 rows x 2 columns]"
      ]
     },
     "execution_count": 9,
     "metadata": {},
     "output_type": "execute_result"
    }
   ],
   "source": [
    "manaus = data(random_dataset)\n",
    "manaus"
   ]
  },
  {
   "cell_type": "code",
   "execution_count": 10,
   "metadata": {},
   "outputs": [
    {
     "name": "stdout",
     "output_type": "stream",
     "text": [
      "manaus\n",
      "\n",
      "PyDataset Documentation (adopted from R Documentation. The displayed examples are in R)\n",
      "\n",
      "##  Average Heights of the Rio Negro river at Manaus\n",
      "\n",
      "### Description\n",
      "\n",
      "The `manaus` time series is of class `\"ts\"` and has 1080 observations on one\n",
      "variable.\n",
      "\n",
      "The data values are monthly averages of the daily stages (heights) of the Rio\n",
      "Negro at Manaus. Manaus is 18km upstream from the confluence of the Rio Negro\n",
      "with the Amazon but because of the tiny slope of the water surface and the\n",
      "lower courses of its flatland affluents, they may be regarded as a good\n",
      "approximation of the water level in the Amazon at the confluence. The data\n",
      "here cover 90 years from January 1903 until December 1992.\n",
      "\n",
      "The Manaus gauge is tied in with an arbitrary bench mark of 100m set in the\n",
      "steps of the Municipal Prefecture; gauge readings are usually referred to sea\n",
      "level, on the basis of a mark on the steps leading to the Parish Church\n",
      "(Matriz), which is assumed to lie at an altitude of 35.874 m according to\n",
      "observations made many years ago under the direction of Samuel Pereira, an\n",
      "engineer in charge of the Manaus Sanitation Committee Whereas such an altitude\n",
      "cannot, by any means, be considered to be a precise datum point, observations\n",
      "have been provisionally referred to it. The measurements are in metres.\n",
      "\n",
      "### Source\n",
      "\n",
      "The data were kindly made available by Professors H. O'Reilly Sternberg and D.\n",
      "R. Brillinger of the University of California at Berkeley.\n",
      "\n",
      "### References\n",
      "\n",
      "Davison, A.C. and Hinkley, D.V. (1997) _Bootstrap Methods and Their\n",
      "Application_. Cambridge University Press.\n",
      "\n",
      "Sternberg, H. O'R. (1987) Aggravation of floods in the Amazon river as a\n",
      "consequence of deforestation? _Geografiska Annaler_, **69A**, 201-219.\n",
      "\n",
      "Sternberg, H. O'R. (1995) Waters and wetlands of Brazilian Amazonia: An\n",
      "uncertain future. In _The Fragile Tropics of Latin America: Sustainable\n",
      "Management of Changing Environments_, Nishizawa, T. and Uitto, J.I. (editors),\n",
      "United Nations University Press, 113-179.\n",
      "\n",
      "\n"
     ]
    }
   ],
   "source": [
    "data(random_dataset, show_doc=True)"
   ]
  },
  {
   "cell_type": "markdown",
   "metadata": {},
   "source": [
    "### Lets see if their is a relationship between time and the height of the river.\n",
    "\n",
    "$H_0$: Time and height of the river are independent.\n",
    "\n",
    "$H_a$: Time and height of the river are dependent.\n",
    "\n",
    "$\\alpha$ = 0.01"
   ]
  },
  {
   "cell_type": "code",
   "execution_count": 11,
   "metadata": {},
   "outputs": [
    {
     "data": {
      "text/plain": [
       "(0.1562158965331767, 2.475570064983856e-07)"
      ]
     },
     "execution_count": 11,
     "metadata": {},
     "output_type": "execute_result"
    }
   ],
   "source": [
    "time = manaus.time\n",
    "height = manaus.manaus\n",
    "\n",
    "r, p = stats.pearsonr(time, height)\n",
    "r, p"
   ]
  },
  {
   "cell_type": "code",
   "execution_count": 12,
   "metadata": {},
   "outputs": [
    {
     "data": {
      "text/plain": [
       "True"
      ]
     },
     "execution_count": 12,
     "metadata": {},
     "output_type": "execute_result"
    }
   ],
   "source": [
    "alpha = 0.01\n",
    "\n",
    "p < alpha"
   ]
  },
  {
   "cell_type": "markdown",
   "metadata": {},
   "source": [
    "So we reject $H_0$"
   ]
  }
 ],
 "metadata": {
  "kernelspec": {
   "display_name": "Python 3",
   "language": "python",
   "name": "python3"
  },
  "language_info": {
   "codemirror_mode": {
    "name": "ipython",
    "version": 3
   },
   "file_extension": ".py",
   "mimetype": "text/x-python",
   "name": "python",
   "nbconvert_exporter": "python",
   "pygments_lexer": "ipython3",
   "version": "3.7.4"
  }
 },
 "nbformat": 4,
 "nbformat_minor": 2
}
