{
 "cells": [
  {
   "cell_type": "markdown",
   "metadata": {},
   "source": [
    "# Hypothesis Testing Exercises\n",
    "\n",
    "---\n",
    "\n",
    "### For each of the following questions, formulate a null and alternative hypothesis (be as specific as you can be), then give an example of what a true positive, true negative, type I and type II errors would look like. Note that some of the questions are intentionally phrased in a vague way. It is your job to reword these as more precise questions that could be tested.\n",
    "\n",
    "---\n",
    "\n",
    "### Has the network latency gone up since we switched internet service providers?\n",
    "\n",
    "#### Source of Data\n",
    "* speed of queries\n",
    "\n",
    "#### Hypotheses\n",
    "* $H_0$: The speed of query execution hasn't changed since we switched internet service providers\n",
    "* $H_a$: The speed of query execution has gone up since we switched internet service providers\n",
    "\n",
    "#### Possible Results\n",
    "* **True Positive**: We find that the speed of query execution has gone up and it has gone up.\n",
    "* **True Negative**: We find that the speed of query execution hasn't changed and it hasn't changed.\n",
    "* **False Positive (Type I Error)**: We find that the speed of query execution has gone up but we had upgraded to fiber optics also.\n",
    "* **False Negative (Type II Error)**: We find that the speed of query execution hasn't changed but we have more server requests due to a new department.\n",
    "\n",
    "---\n",
    "\n",
    "### Is the website redesign any good?\n",
    "\n",
    "#### Source of Data\n",
    "\n",
    "- Number of visits\n",
    "\n",
    "#### Hypotheses\n",
    "* $H_0$: The number of visits have not changed.\n",
    "* $H_a$: The number of visits are higher.\n",
    "\n",
    "#### Possible Results\n",
    "* **True Positive**: We find that the number of visits are higher than the previous website and they are higher.\n",
    "* **True Negative**: We find that the number of visits haven't changed and it hasn't changed.\n",
    "* **False Positive (Type I Error)**: We find that the number of visits are higher but we recently ran an internet add campaign.\n",
    "* **False Negative (Type II Error)**: We find that the number of visits haven't changed but our ad campaign just ended.\n",
    "\n",
    "---\n",
    "\n",
    "### Is our television ad driving more sales?\n",
    "\n",
    "* Total sales\n",
    "\n",
    "#### Hypotheses\n",
    "* $H_0$: Our total sales haven't changed.\n",
    "* $H_a$: Our toal sales have gone up.\n",
    "\n",
    "#### Possible Results\n",
    "* **True Positive**: We find total sales have gone up and they have gone up.\n",
    "* **True Negative**: We find that the total sales haven't changed and they aren't causing more or less sales.\n",
    "* **False Positive (Type I Error)**: We find that total sales have gone up but we also just opened a new store.\n",
    "* **False Negative (Type II Error)**: We find that the total sales haven't changed but we also just closed a store."
   ]
  }
 ],
 "metadata": {
  "kernelspec": {
   "display_name": "Python 3",
   "language": "python",
   "name": "python3"
  },
  "language_info": {
   "codemirror_mode": {
    "name": "ipython",
    "version": 3
   },
   "file_extension": ".py",
   "mimetype": "text/x-python",
   "name": "python",
   "nbconvert_exporter": "python",
   "pygments_lexer": "ipython3",
   "version": "3.7.4"
  }
 },
 "nbformat": 4,
 "nbformat_minor": 2
}
