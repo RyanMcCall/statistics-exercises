{
 "cells": [
  {
   "cell_type": "markdown",
   "metadata": {},
   "source": [
    "# Hypothesis Testing Exercises\n",
    "\n",
    "---\n",
    "\n",
    "## For each of the following questions, formulate a null and alternative hypothesis (be as specific as you can be), then give an example of what a true positive, true negative, type I and type II errors would look like. Note that some of the questions are intentionally phrased in a vague way. It is your job to reword these as more precise questions that could be tested.\n",
    "\n",
    "---\n",
    "\n",
    "### Has the network latency gone up since we switched internet service providers?\n",
    "\n",
    "#### Hypotheses\n",
    "* $H_0$: The network latency has not gone up since we switched internet service providers\n",
    "* $H_a$: The network latency has gone up since we switched internet service providers\n",
    "\n",
    "#### Possible Results\n",
    "* **True Positive**: We find that the network latency has gone up and it has.\n",
    "* **True Negative**: We find that the network latency hasn't gone up and it hasn't.\n",
    "* **Type I Error**: We find that the network latency has gone up and it hasn't.\n",
    "* **Type II Error**: We find that the network latency hasn't gone up and it has.\n",
    "\n",
    "---\n",
    "\n",
    "### Is the website redesign any good?\n",
    "\n",
    "#### Hypotheses\n",
    "* $H_0$: The website redesign is not better or worse than the previous website.\n",
    "* $H_a$: The website redesign is better than the previous website.\n",
    "\n",
    "#### Possible Results\n",
    "* **True Positive**: \n",
    "* **True Negative**: \n",
    "* **Type I Error**: \n",
    "* **Type II Error**: \n",
    "\n",
    "---\n",
    "\n",
    "### Is our television ad driving more sales?\n",
    "\n",
    "#### Hypotheses\n",
    "* $H_0$: \n",
    "* $H_a$: \n",
    "\n",
    "#### Possible Results\n",
    "* **True Positive**: \n",
    "* **True Negative**: \n",
    "* **Type I Error**: \n",
    "* **Type II Error**: "
   ]
  },
  {
   "cell_type": "code",
   "execution_count": null,
   "metadata": {},
   "outputs": [],
   "source": []
  }
 ],
 "metadata": {
  "kernelspec": {
   "display_name": "Python 3",
   "language": "python",
   "name": "python3"
  },
  "language_info": {
   "codemirror_mode": {
    "name": "ipython",
    "version": 3
   },
   "file_extension": ".py",
   "mimetype": "text/x-python",
   "name": "python",
   "nbconvert_exporter": "python",
   "pygments_lexer": "ipython3",
   "version": "3.7.4"
  }
 },
 "nbformat": 4,
 "nbformat_minor": 2
}
